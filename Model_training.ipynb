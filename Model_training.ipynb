{
 "cells": [
  {
   "cell_type": "code",
   "execution_count": null,
   "metadata": {
    "collapsed": true
   },
   "outputs": [],
   "source": [
    "import pandas as pd\n",
    "from sklearn.model_selection import train_test_split\n",
    "from sklearn.naive_bayes import GaussianNB\n",
    "from sklearn.metrics import accuracy_score\n",
    "from sklearn.neighbors import KNeighborsClassifier\n",
    "import matplotlib.pyplot as plt\n",
    "from sklearn.model_selection import train_test_split, validation_curve, learning_curve, cross_val_score\n",
    "from sklearn.metrics import accuracy_score\n",
    "from sklearn.model_selection import GridSearchCV\n",
    "from sklearn.neighbors import KNeighborsClassifier\n",
    "from sklearn.metrics import roc_curve, auc\n",
    "\n",
    "excel_file = 'C:/Users/Samae/Desktop/merged_all.csv'\n",
    "\n",
    "# Read all sheets into a dictionary of dataframes\n",
    "merged_all = pd.read_csv(excel_file)\n"
   ]
  },
  {
   "cell_type": "code",
   "execution_count": 35,
   "outputs": [],
   "source": [
    "X = merged_all.drop('state', axis=1)\n",
    "y = merged_all['state']\n",
    "\n",
    "X_train, X_test, y_train, y_test = train_test_split(X, y, test_size=0.3, random_state=66)"
   ],
   "metadata": {
    "collapsed": false,
    "ExecuteTime": {
     "end_time": "2023-06-18T17:14:28.961441700Z",
     "start_time": "2023-06-18T17:14:28.949605100Z"
    }
   }
  },
  {
   "cell_type": "markdown",
   "source": [
    "## NB"
   ],
   "metadata": {
    "collapsed": false
   }
  },
  {
   "cell_type": "code",
   "execution_count": 36,
   "outputs": [],
   "source": [
    "GB = GaussianNB()"
   ],
   "metadata": {
    "collapsed": false,
    "ExecuteTime": {
     "end_time": "2023-06-18T17:14:28.984202800Z",
     "start_time": "2023-06-18T17:14:28.964628600Z"
    }
   }
  },
  {
   "cell_type": "code",
   "execution_count": 37,
   "outputs": [
    {
     "data": {
      "text/plain": "GaussianNB(priors=None, var_smoothing=1e-09)"
     },
     "execution_count": 37,
     "metadata": {},
     "output_type": "execute_result"
    }
   ],
   "source": [
    "GB.fit(X_train, y_train)"
   ],
   "metadata": {
    "collapsed": false,
    "ExecuteTime": {
     "end_time": "2023-06-18T17:14:29.076562600Z",
     "start_time": "2023-06-18T17:14:28.977683100Z"
    }
   }
  },
  {
   "cell_type": "code",
   "execution_count": 38,
   "outputs": [],
   "source": [
    "y_pred = GB.predict(X_test)"
   ],
   "metadata": {
    "collapsed": false,
    "ExecuteTime": {
     "end_time": "2023-06-18T17:14:29.123230900Z",
     "start_time": "2023-06-18T17:14:28.995735800Z"
    }
   }
  },
  {
   "cell_type": "code",
   "execution_count": 39,
   "outputs": [
    {
     "name": "stdout",
     "output_type": "stream",
     "text": [
      "Accuracy: 0.9857274401473296\n"
     ]
    }
   ],
   "source": [
    "accuracy = accuracy_score(y_test, y_pred)\n",
    "print(\"Accuracy:\", accuracy)"
   ],
   "metadata": {
    "collapsed": false,
    "ExecuteTime": {
     "end_time": "2023-06-18T17:14:29.222942800Z",
     "start_time": "2023-06-18T17:14:29.020572700Z"
    }
   }
  },
  {
   "cell_type": "code",
   "execution_count": 40,
   "outputs": [
    {
     "data": {
      "text/plain": "0.9857493097681556"
     },
     "execution_count": 40,
     "metadata": {},
     "output_type": "execute_result"
    }
   ],
   "source": [
    "#get F1 score\n",
    "from sklearn.metrics import f1_score\n",
    "f1_score(y_test, y_pred, average='weighted')"
   ],
   "metadata": {
    "collapsed": false,
    "ExecuteTime": {
     "end_time": "2023-06-18T17:14:29.222942800Z",
     "start_time": "2023-06-18T17:14:29.027102900Z"
    }
   }
  },
  {
   "cell_type": "markdown",
   "source": [
    "## KNN"
   ],
   "metadata": {
    "collapsed": false
   }
  },
  {
   "cell_type": "code",
   "execution_count": 41,
   "outputs": [],
   "source": [
    "def train_knn(X_train, y_train):\n",
    "    from matplotlib import pyplot as plt\n",
    "    parameter = {'n_neighbors': [5,6,7,8,9,10,11,12,13,14,15]}\n",
    "    knn = KNeighborsClassifier()\n",
    "\n",
    "    clf = GridSearchCV(knn, parameter, cv=5, n_jobs=5)\n",
    "    clf.fit(X_train, y_train)\n",
    "\n",
    "    print(f'The best K value is：{(clf.best_params_)[\"n_neighbors\"]}', \"Acc：%.2f\" % clf.best_score_)\n",
    "\n",
    "    return clf\n",
    "\n",
    "def get_output():\n",
    "    from sklearn.metrics import confusion_matrix, precision_score, recall_score, f1_score\n",
    "    knn = train_knn(X_train, y_train)\n",
    "    print(\"The score for kNN without cross val and without using smote is\")\n",
    "    print(\"Training set: {:6.2f}%\".format(100 * knn.score(X_train, y_train)))\n",
    "    print(\"Test set: {:6.2f}%\".format(100 * knn.score(X_test, y_test)))\n",
    "    # prediction\n",
    "    y_pred_KNN = knn.predict(X_test)\n",
    "    print(\"F1:\",f1_score(y_test, y_pred_KNN, average='weighted'))\n",
    "\n"
   ],
   "metadata": {
    "collapsed": false,
    "ExecuteTime": {
     "end_time": "2023-06-18T17:14:29.223955200Z",
     "start_time": "2023-06-18T17:14:29.046155300Z"
    }
   }
  },
  {
   "cell_type": "code",
   "execution_count": 42,
   "outputs": [
    {
     "name": "stdout",
     "output_type": "stream",
     "text": [
      "The best K value is：5 Acc：0.99\n",
      "The score for kNN without cross val and without using smote is\n",
      "Training set:  98.99%\n",
      "Test set:  98.57%\n",
      "F1: 0.9856993296983566\n"
     ]
    }
   ],
   "source": [
    "get_output()"
   ],
   "metadata": {
    "collapsed": false,
    "ExecuteTime": {
     "end_time": "2023-06-18T17:14:30.250862900Z",
     "start_time": "2023-06-18T17:14:29.057886600Z"
    }
   }
  },
  {
   "cell_type": "code",
   "execution_count": 42,
   "outputs": [],
   "source": [],
   "metadata": {
    "collapsed": false,
    "ExecuteTime": {
     "end_time": "2023-06-18T17:14:30.269212900Z",
     "start_time": "2023-06-18T17:14:30.251864200Z"
    }
   }
  }
 ],
 "metadata": {
  "kernelspec": {
   "display_name": "Python 3",
   "language": "python",
   "name": "python3"
  },
  "language_info": {
   "codemirror_mode": {
    "name": "ipython",
    "version": 2
   },
   "file_extension": ".py",
   "mimetype": "text/x-python",
   "name": "python",
   "nbconvert_exporter": "python",
   "pygments_lexer": "ipython2",
   "version": "2.7.6"
  }
 },
 "nbformat": 4,
 "nbformat_minor": 0
}
