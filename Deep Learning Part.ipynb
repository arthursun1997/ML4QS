{
 "cells": [
  {
   "cell_type": "code",
   "execution_count": 55,
   "id": "46faf3d3",
   "metadata": {},
   "outputs": [],
   "source": [
    "import numpy as np\n",
    "import pandas as pd\n",
    "from sklearn.model_selection import train_test_split\n",
    "from tensorflow.keras.models import Sequential\n",
    "from tensorflow.keras.layers import LSTM, Dense\n",
    "from sklearn.preprocessing import LabelEncoder\n",
    "from tensorflow.keras import Input, Model\n",
    "from tensorflow.keras.layers import Dense\n",
    "from tcn import TCN, tcn_full_summary\n",
    "import matplotlib.pyplot as plt\n",
    "from tensorflow.keras.optimizers import Adam\n"
   ]
  },
  {
   "cell_type": "code",
   "execution_count": 56,
   "id": "28412077",
   "metadata": {},
   "outputs": [],
   "source": [
    "data = pd.read_csv('merged_all_final.csv')"
   ]
  },
  {
   "cell_type": "code",
   "execution_count": 57,
   "id": "57907e18",
   "metadata": {},
   "outputs": [],
   "source": [
    "X = data[['Time (s)','A_x', 'A_y', 'A_z', 'Gyr_x', 'Gyr_y', 'Gyr_z', 'freq', 'speed']]\n",
    "y = data['state']"
   ]
  },
  {
   "cell_type": "code",
   "execution_count": 58,
   "id": "335e6bf5",
   "metadata": {},
   "outputs": [],
   "source": [
    "# Reshape X to be 3D \n",
    "X = X.values.reshape((X.shape[0], X.shape[1], 1))\n",
    "\n",
    "# Initialize the label encoder\n",
    "le = LabelEncoder()\n",
    "\n",
    "# Fit the label encoder and transform the target variable\n",
    "y = le.fit_transform(y)\n",
    "\n",
    "# Split data into training set and test set\n",
    "X_train, X_test, y_train, y_test = train_test_split(X, y, test_size=0.3, random_state=42)"
   ]
  },
  {
   "cell_type": "code",
   "execution_count": 59,
   "id": "6f0e72bd",
   "metadata": {},
   "outputs": [],
   "source": [
    "# Define the learning rate\n",
    "learning_rate = 0.001\n",
    "\n",
    "# Define model\n",
    "model = Sequential()\n",
    "model.add(LSTM(40, activation='relu', input_shape=(X_train.shape[1], 1)))\n",
    "model.add(Dense(4, activation='softmax'))  # 4 is the number of categories"
   ]
  },
  {
   "cell_type": "code",
   "execution_count": 40,
   "id": "864bd387",
   "metadata": {},
   "outputs": [
    {
     "data": {
      "image/png": "[encoded data removed]",
      "text/plain": [
       "<Figure size 432x288 with 1 Axes>"
      ]
     },
     "metadata": {
      "needs_background": "light"
     },
     "output_type": "display_data"
    }
   ],
   "source": [
    "#Learning rate test\n",
    "def learning_rate_range_test(X_train, y_train, lr_start, lr_end, num_epochs):\n",
    "    # define range of learning rate\n",
    "    lrs = np.linspace(lr_start, lr_end, num_epochs)\n",
    "    \n",
    "    losses = []\n",
    "    for lr in lrs:\n",
    "        # define model\n",
    "        model = Sequential()\n",
    "        model.add(LSTM(40, activation='relu', input_shape=(X_train.shape[1], 1)))\n",
    "        model.add(Dense(4, activation='softmax'))\n",
    "        \n",
    "        # compile model\n",
    "        optimizer = Adam(learning_rate=lr)\n",
    "        model.compile(optimizer=optimizer, loss='sparse_categorical_crossentropy', metrics=['accuracy'])\n",
    "        \n",
    "        # train model\n",
    "        history = model.fit(X_train, y_train, epochs=1, verbose=0)\n",
    "        \n",
    "        # loss value\n",
    "        losses.append(history.history['loss'][0])\n",
    "    \n",
    "    return lrs, losses\n",
    "\n",
    "lr_start = 1e-6  # start learning rate\n",
    "lr_end = 1e-1    # end learning rate\n",
    "num_epochs = 100  # epochs\n",
    "\n",
    "lrs, losses = learning_rate_range_test(X_train, y_train, lr_start, lr_end, num_epochs)\n",
    "\n",
    "# \n",
    "plt.plot(lrs, losses)\n",
    "plt.xlabel('Learning Rate')\n",
    "plt.ylabel('Loss')\n",
    "plt.xscale('log')\n",
    "plt.show()"
   ]
  },
  {
   "cell_type": "code",
   "execution_count": 60,
   "id": "6ae9789f",
   "metadata": {},
   "outputs": [],
   "source": [
    "# Compile model with adjustable learning rate\n",
    "optimizer = Adam(learning_rate=learning_rate)\n",
    "model.compile(optimizer=optimizer, loss='sparse_categorical_crossentropy', metrics=['accuracy'])\n",
    "\n",
    "# Train model\n",
    "history = model.fit(X_train, y_train, epochs=200, verbose=0, validation_data=(X_test, y_test))\n",
    "\n",
    "# get features importance\n",
    "feature_importance = model.layers[0].get_weights()[0].sum(axis=0)"
   ]
  },
  {
   "cell_type": "code",
   "execution_count": 61,
   "id": "671dda97",
   "metadata": {},
   "outputs": [
    {
     "name": "stdout",
     "output_type": "stream",
     "text": [
      "Test loss: 0.06244322285056114\n",
      "Test accuracy: 0.9866982102394104\n"
     ]
    }
   ],
   "source": [
    "# Evaluate model\n",
    "loss, accuracy = model.evaluate(X_test, y_test, verbose=0)\n",
    "print('Test loss:', loss)\n",
    "print('Test accuracy:', accuracy)"
   ]
  },
  {
   "cell_type": "code",
   "execution_count": 62,
   "id": "5d3b365f",
   "metadata": {},
   "outputs": [
    {
     "name": "stdout",
     "output_type": "stream",
     "text": [
      "Feature 'Time (s)': Importance = 0.1261570155620575\n",
      "Feature 'A_x': Importance = 0.2927938401699066\n",
      "Feature 'A_y': Importance = 0.0660049244761467\n",
      "Feature 'A_z': Importance = -0.11049182713031769\n",
      "Feature 'Gyr_x': Importance = -0.05919549614191055\n",
      "Feature 'Gyr_y': Importance = 0.051055822521448135\n",
      "Feature 'Gyr_z': Importance = 0.39146342873573303\n",
      "Feature 'freq': Importance = 0.959500253200531\n",
      "Feature 'speed': Importance = 0.850762665271759\n"
     ]
    },
    {
     "ename": "IndexError",
     "evalue": "list index out of range",
     "output_type": "error",
     "traceback": [
      "\u001b[1;31m---------------------------------------------------------------------------\u001b[0m",
      "\u001b[1;31mIndexError\u001b[0m                                Traceback (most recent call last)",
      "\u001b[1;32m<ipython-input-62-28d230e4085a>\u001b[0m in \u001b[0;36m<module>\u001b[1;34m\u001b[0m\n\u001b[0;32m      1\u001b[0m \u001b[0mfeature_names\u001b[0m \u001b[1;33m=\u001b[0m \u001b[1;33m[\u001b[0m\u001b[1;34m'Time (s)'\u001b[0m\u001b[1;33m,\u001b[0m \u001b[1;34m'A_x'\u001b[0m\u001b[1;33m,\u001b[0m \u001b[1;34m'A_y'\u001b[0m\u001b[1;33m,\u001b[0m \u001b[1;34m'A_z'\u001b[0m\u001b[1;33m,\u001b[0m \u001b[1;34m'Gyr_x'\u001b[0m\u001b[1;33m,\u001b[0m \u001b[1;34m'Gyr_y'\u001b[0m\u001b[1;33m,\u001b[0m \u001b[1;34m'Gyr_z'\u001b[0m\u001b[1;33m,\u001b[0m \u001b[1;34m'freq'\u001b[0m\u001b[1;33m,\u001b[0m \u001b[1;34m'speed'\u001b[0m\u001b[1;33m]\u001b[0m\u001b[1;33m\u001b[0m\u001b[1;33m\u001b[0m\u001b[0m\n\u001b[0;32m      2\u001b[0m \u001b[1;32mfor\u001b[0m \u001b[0mi\u001b[0m \u001b[1;32min\u001b[0m \u001b[0mrange\u001b[0m\u001b[1;33m(\u001b[0m\u001b[0mlen\u001b[0m\u001b[1;33m(\u001b[0m\u001b[0mfeature_importance\u001b[0m\u001b[1;33m)\u001b[0m\u001b[1;33m)\u001b[0m\u001b[1;33m:\u001b[0m\u001b[1;33m\u001b[0m\u001b[1;33m\u001b[0m\u001b[0m\n\u001b[1;32m----> 3\u001b[1;33m     \u001b[0mprint\u001b[0m\u001b[1;33m(\u001b[0m\u001b[1;34mf\"Feature '{feature_names[i]}': Importance = {feature_importance[i]}\"\u001b[0m\u001b[1;33m)\u001b[0m\u001b[1;33m\u001b[0m\u001b[1;33m\u001b[0m\u001b[0m\n\u001b[0m",
      "\u001b[1;31mIndexError\u001b[0m: list index out of range"
     ]
    }
   ],
   "source": [
    "feature_names = ['Time (s)', 'A_x', 'A_y', 'A_z', 'Gyr_x', 'Gyr_y', 'Gyr_z', 'freq', 'speed']\n",
    "for i in range(len(feature_importance)):\n",
    "    print(f\"Feature '{feature_names[i]}': Importance = {feature_importance[i]}\")"
   ]
  },
  {
   "cell_type": "code",
   "execution_count": 49,
   "id": "e8912ac5",
   "metadata": {},
   "outputs": [
    {
     "name": "stdout",
     "output_type": "stream",
     "text": [
      "247/247 [==============================] - 0s 1ms/step\n",
      "106/106 [==============================] - 0s 1ms/step\n"
     ]
    },
    {
     "data": {
      "image/png": "[encoded data removed]",
      "text/plain": [
       "<Figure size 432x288 with 1 Axes>"
      ]
     },
     "metadata": {
      "needs_background": "light"
     },
     "output_type": "display_data"
    }
   ],
   "source": [
    "#this part is useless\n",
    "# 获取训练集和测试集的时间序列数据\n",
    "train_actual = y_train\n",
    "train_predicted = model.predict(X_train)\n",
    "test_actual = y_test\n",
    "test_predicted = model.predict(X_test)\n",
    "\n",
    "# 创建时间序列\n",
    "time = range(len(train_actual) + len(test_actual))\n",
    "\n",
    "# 绘制训练集实际值和预测值\n",
    "plt.plot(time[:len(train_actual)], train_actual, 'b-', label='Train Actual')\n",
    "plt.plot(time[:len(train_actual)], train_predicted, 'r--', label='Train Predicted')\n",
    "\n",
    "# 绘制测试集实际值和预测值\n",
    "plt.plot(time[len(train_actual):], test_actual, 'g-', label='Test Actual')\n",
    "plt.plot(time[len(train_actual):], test_predicted, 'm--', label='Test Predicted')\n",
    "\n",
    "# 添加图例和标签\n",
    "plt.legend()\n",
    "plt.xlabel('Time')\n",
    "plt.ylabel('State')\n",
    "\n",
    "# 添加训练集和测试集标记\n",
    "plt.axvline(len(train_actual), color='k', linestyle='--')\n",
    "\n",
    "# 显示图形\n",
    "plt.show()"
   ]
  },
  {
   "cell_type": "code",
   "execution_count": null,
   "id": "636dc59e",
   "metadata": {},
   "outputs": [],
   "source": []
  }
 ],
 "metadata": {
  "kernelspec": {
   "display_name": "Python 3",
   "language": "python",
   "name": "python3"
  },
  "language_info": {
   "codemirror_mode": {
    "name": "ipython",
    "version": 3
   },
   "file_extension": ".py",
   "mimetype": "text/x-python",
   "name": "python",
   "nbconvert_exporter": "python",
   "pygments_lexer": "ipython3",
   "version": "3.8.8"
  }
 },
 "nbformat": 4,
 "nbformat_minor": 5
}
